{
  "cells": [
    {
      "cell_type": "markdown",
      "source": [
        "Questao Um"
      ],
      "metadata": {
        "id": "8L7PZaH60jVt"
      }
    },
    {
      "cell_type": "code",
      "source": [
        "nome = input(\"Qual o seu nome? \")\n",
        "idade = int(input(\"Qual a sua idade? \"))\n",
        "peso = float(input(\"Qual o seu peso? \"))\n",
        "altura = float(input(\"Qual a sua altura? \"))\n",
        "\n",
        "if idade > 18 and peso >= 60 and altura >= 1.70:\n",
        "    print(f\"Você está apto a servir o exército\")\n",
        "else:\n",
        "    print(f\"Você não está apto a servir o exército\")"
      ],
      "metadata": {
        "id": "mrq-wvon0JRU"
      },
      "execution_count": null,
      "outputs": []
    },
    {
      "cell_type": "markdown",
      "source": [
        "Questao Dois"
      ],
      "metadata": {
        "id": "9XCpTTMC0oZu"
      }
    },
    {
      "cell_type": "code",
      "source": [
        "frase = \"Anotaram a data da maratona\"\n",
        "frase_invertida = frase[::-1]\n",
        "print(f\"Frase invertida: {frase_invertida}\")"
      ],
      "metadata": {
        "id": "q6jrMycR0J_b"
      },
      "execution_count": null,
      "outputs": []
    },
    {
      "cell_type": "markdown",
      "source": [
        "Questao Tres"
      ],
      "metadata": {
        "id": "U0r97xVB1BGI"
      }
    },
    {
      "cell_type": "code",
      "source": [
        "dias = int(input(\"Dias: \"))\n",
        "horas = int(input(\"Horas: \"))\n",
        "minutos = int(input(\"Minutos: \"))\n",
        "\n",
        "segundos = dias * 86400 + horas * 3600 + minutos * 60\n",
        "print(f\"Total de segundos: {segundos}\")"
      ],
      "metadata": {
        "id": "c6LlPW281CzU"
      },
      "execution_count": null,
      "outputs": []
    },
    {
      "cell_type": "markdown",
      "source": [
        "Questao Quatro\n"
      ],
      "metadata": {
        "id": "sHRvH_3e1H22"
      }
    },
    {
      "cell_type": "code",
      "source": [
        "distancia = float(input(\"Distância a percorrer (km): \"))\n",
        "velocidade_media = float(input(\"Velocidade média esperada (km/h): \"))\n",
        "\n",
        "tempo = distancia / velocidade_media\n",
        "print(f\"O tempo estimado de viagem é {tempo:.2f} horas\")\n"
      ],
      "metadata": {
        "id": "cQw-DSkX1JuM"
      },
      "execution_count": null,
      "outputs": []
    },
    {
      "cell_type": "markdown",
      "source": [
        "Questao Cinco"
      ],
      "metadata": {
        "id": "YHGhXhU31hXi"
      }
    },
    {
      "cell_type": "code",
      "source": [
        "velocidade = float(input(\"Velocidade do carro (km/h): \"))\n",
        "\n",
        "if velocidade > 80:\n",
        "    multa = (velocidade - 80) * 5\n",
        "    print(f\"Você foi multado! Valor da multa: R${multa:.2f}\")\n",
        "else:\n",
        "    print(\"Velocidade dentro do limite permitido\")\n"
      ],
      "metadata": {
        "id": "8LJEAvYT1jBV"
      },
      "execution_count": null,
      "outputs": []
    },
    {
      "cell_type": "markdown",
      "source": [
        "Questao Seis"
      ],
      "metadata": {
        "id": "OPmPR6KN1lJ5"
      }
    },
    {
      "cell_type": "code",
      "source": [
        "valor_casa = float(input(\"Valor da casa: R$ \"))\n",
        "salario = float(input(\"Salário: R$ \"))\n",
        "anos = int(input(\"Quantos anos para pagar: \"))\n",
        "\n",
        "prestacao_mensal = valor_casa / (anos * 12)\n",
        "\n",
        "if prestacao_mensal > 0.3 * salario:\n",
        "    print(\"Empréstimo não aprovado\")\n",
        "else:\n",
        "    print(\"Empréstimo aprovado\")\n"
      ],
      "metadata": {
        "id": "Ta3xvkg21nOw"
      },
      "execution_count": null,
      "outputs": []
    },
    {
      "cell_type": "markdown",
      "source": [
        "Questao Sete"
      ],
      "metadata": {
        "id": "qwQLP15l1qnU"
      }
    },
    {
      "cell_type": "code",
      "source": [
        "numero = int(input(\"Digite um número para ver sua tabuada: \"))\n",
        "\n",
        "print(f\"Tabuada do {numero}\")\n",
        "for i in range(10):\n",
        "    print(f\"{numero} X {i} = {numero * i}\")\n"
      ],
      "metadata": {
        "id": "FlBzk0XQ1rxg"
      },
      "execution_count": null,
      "outputs": []
    },
    {
      "cell_type": "markdown",
      "source": [
        "Questao Oito"
      ],
      "metadata": {
        "id": "fmduUVWB1t_t"
      }
    },
    {
      "cell_type": "code",
      "source": [
        "dividendo = int(input(\"Digite o dividendo: \"))\n",
        "divisor = int(input(\"Digite o divisor: \"))\n",
        "\n",
        "resto = dividendo\n",
        "while resto >= divisor:\n",
        "    resto -= divisor\n",
        "\n",
        "print(f\"O resto da divisão de {dividendo} por {divisor} é {resto}\")"
      ],
      "metadata": {
        "id": "DQv4qgmT1vez"
      },
      "execution_count": null,
      "outputs": []
    },
    {
      "cell_type": "markdown",
      "source": [
        "Questao Nove\n"
      ],
      "metadata": {
        "id": "wnqzKYev14d_"
      }
    },
    {
      "cell_type": "code",
      "source": [
        "lado1 = int(input(\"Digite o comprimento do lado 1: \"))\n",
        "lado2 = int(input(\"Digite o comprimento do lado 2: \"))\n",
        "lado3 = int(input(\"Digite o comprimento do lado 3: \"))\n",
        "\n",
        "if lado1 == lado2 == lado3:\n",
        "    print(\"Triângulo Equilátero\")\n",
        "elif lado1 == lado2 or lado1 == lado3 or lado2 == lado3:\n",
        "    print(\"Triângulo Isósceles\")\n",
        "else:\n",
        "    print(\"Triângulo Escaleno\")"
      ],
      "metadata": {
        "id": "whUPU3iN15u4"
      },
      "execution_count": null,
      "outputs": []
    },
    {
      "cell_type": "markdown",
      "source": [
        "Questao Dez"
      ],
      "metadata": {
        "id": "4TKLnF3N189X"
      }
    },
    {
      "cell_type": "code",
      "source": [
        "def inverte_numero(numero):\n",
        "    return int(str(numero)[::-1])\n",
        "\n",
        "numero = int(input(\"Digite um número inteiro: \"))\n",
        "print(f\"Número invertido: {inverte_numero(numero)}\")\n"
      ],
      "metadata": {
        "id": "jIdJtc2c1-Gz"
      },
      "execution_count": null,
      "outputs": []
    },
    {
      "cell_type": "markdown",
      "source": [
        "Questao Onze"
      ],
      "metadata": {
        "id": "3WnqK82Z2BUx"
      }
    },
    {
      "cell_type": "code",
      "source": [
        "def conta_vogais(palavra):\n",
        "    vogais = \"aeiouAEIOU\"\n",
        "    contagem = sum(1 for letra in palavra if letra in vogais)\n",
        "    return contagem\n",
        "\n",
        "frase = input(\"Digite uma frase: \")\n",
        "print(f\"A palavra tem {conta_vogais(frase)} vogais\")"
      ],
      "metadata": {
        "id": "Nlhed6uH2Cjo"
      },
      "execution_count": null,
      "outputs": []
    },
    {
      "cell_type": "markdown",
      "source": [
        "Questao Doze"
      ],
      "metadata": {
        "id": "HIeSxHcQ2Fgz"
      }
    },
    {
      "cell_type": "code",
      "source": [
        "from collections import Counter\n",
        "\n",
        "lista = [2, 7, 7, 7, '#', '#', '#', '@', 3, '#', 6]\n",
        "mais_frequente = Counter(lista).most_common(1)[0]\n",
        "\n",
        "print(f\"O item mais frequente é '{mais_frequente[0]}' e aparece {mais_frequente[1]} vezes\")\n"
      ],
      "metadata": {
        "id": "uxaD1LV92G7C"
      },
      "execution_count": null,
      "outputs": []
    },
    {
      "cell_type": "markdown",
      "source": [
        "Questao Treze"
      ],
      "metadata": {
        "id": "QZkpqQJa2Z1i"
      }
    },
    {
      "cell_type": "code",
      "source": [
        "palavra = input(\"Digite uma palavra: \").lower()\n",
        "\n",
        "if palavra == palavra[::-1]:\n",
        "    print(f\"{palavra} é um palíndromo\")\n",
        "else:\n",
        "    print(f\"{palavra} não é um palíndromo\")"
      ],
      "metadata": {
        "id": "ctsLqcsf2bdd"
      },
      "execution_count": null,
      "outputs": []
    }
  ],
  "metadata": {
    "interpreter": {
      "hash": "8e9a18fee897584348f245f3ed6851049a290baafc4465fb2a04a303ae1e268b"
    },
    "kernelspec": {
      "display_name": "Python 3.7.4 64-bit ('base': conda)",
      "name": "python3"
    },
    "language_info": {
      "codemirror_mode": {
        "name": "ipython",
        "version": 3
      },
      "file_extension": ".py",
      "mimetype": "text/x-python",
      "name": "python",
      "nbconvert_exporter": "python",
      "pygments_lexer": "ipython3",
      "version": "3.7.4"
    },
    "orig_nbformat": 4,
    "colab": {
      "provenance": [],
      "toc_visible": true
    }
  },
  "nbformat": 4,
  "nbformat_minor": 0
}